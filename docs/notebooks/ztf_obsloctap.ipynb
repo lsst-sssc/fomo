{
 "cells": [
  {
   "cell_type": "markdown",
   "id": "f376025c-944e-4af2-ae80-3da9746a5949",
   "metadata": {},
   "source": [
    "# Experiments with ObsLocTAP for ZTF's Rubin SV shadowing"
   ]
  },
  {
   "cell_type": "markdown",
   "id": "8fd4f75c-06ba-4e2f-974b-d0d8e1cd27fe",
   "metadata": {},
   "source": [
    "## 1. Introduction\n",
    "This notebook demonstrates how to look at the ObsLocTAP results that are being published by the [ZTF schedule reporting service](https://zwickytransientfacility.github.io/schedule_reporting_service/) for ZTF's Rubin SV shadowing observations."
   ]
  },
  {
   "cell_type": "markdown",
   "id": "5f31ffa5-19ad-4857-8cb9-993b4bd33e33",
   "metadata": {},
   "source": [
    "### Import needed packages"
   ]
  },
  {
   "cell_type": "code",
   "execution_count": null,
   "id": "a218c7e0-35c6-4c90-86b5-6ccbd1a39cc5",
   "metadata": {},
   "outputs": [],
   "source": [
    "from datetime import datetime, timedelta\n",
    "\n",
    "import numpy as np\n",
    "from astropy.time import Time\n",
    "from astropy.table import QTable\n",
    "from astropy import units as u\n",
    "from sregion import SRegion\n",
    "import skyproj\n",
    "from matplotlib import pyplot as plt\n",
    "\n",
    "%matplotlib widget"
   ]
  },
  {
   "cell_type": "markdown",
   "id": "c2290eaf-f686-47ab-a8ab-2bfb4fc08b53",
   "metadata": {},
   "source": [
    "Define observation date, convert to string in the right format and fetch the VOTable of scheduled observations which are in [ObsLocTAP](https://www.ivoa.net/documents/ObsLocTAP/index.html) format. We then convert the three time-related columns to AstroPy `Time` mixin columns."
   ]
  },
  {
   "cell_type": "code",
   "execution_count": null,
   "id": "ad1ee331-22a0-4662-92d4-33dce75e85bd",
   "metadata": {},
   "outputs": [],
   "source": [
    "obs_date = datetime(2025, 8, 11)\n",
    "date_str = obs_date.strftime('%Y-%m-%d')\n",
    "print(f'Searching for observations on {date_str}')"
   ]
  },
  {
   "cell_type": "code",
   "execution_count": null,
   "id": "c2dd9d66-bd6d-4bcd-8e06-3d33a8378b04",
   "metadata": {},
   "outputs": [],
   "source": [
    "url = f'http://schedule.ztf.uw.edu/ZTF_ObsLoc_{date_str}.xml'\n",
    "ztf_obs = QTable.read(url)"
   ]
  },
  {
   "cell_type": "code",
   "execution_count": null,
   "id": "57ea66db-3d32-4c6e-bf17-370ec825c95d",
   "metadata": {},
   "outputs": [],
   "source": [
    "for column in ['t_planning', 't_min', 't_max']:\n",
    "    t = Time(ztf_obs[column], format='mjd')\n",
    "    ztf_obs[column] = t"
   ]
  },
  {
   "cell_type": "code",
   "execution_count": null,
   "id": "1699ed76-085a-4c7f-b7a1-52b87c70d071",
   "metadata": {},
   "outputs": [],
   "source": [
    "ztf_obs"
   ]
  },
  {
   "cell_type": "markdown",
   "id": "672268aa-d7cc-4b33-996b-0b3e78b1987c",
   "metadata": {},
   "source": [
    "### Footprints and regions\n",
    "The footprint information is in the `s_region` column and is in the unformalized but widely used subset of [STC-S](https://www.ivoa.net/documents/Notes/STC-S/) as detailed in Section 6 of the [TAP 1.0](https://www.ivoa.net/documents/TAP/20100327/REC-TAP-1.0.html) specification. We can use the `sregion` package (need >=1.5 for the `BOX` support TL added) to turn these into `SRegion` objects which can then be converted into `matplotlib.patch` patches or `shapely` polygons"
   ]
  },
  {
   "cell_type": "code",
   "execution_count": null,
   "id": "1d17f862-73ef-496f-a0e0-00eecf79d382",
   "metadata": {},
   "outputs": [],
   "source": [
    "row = ztf_obs[0]\n",
    "print(row['s_region'])"
   ]
  },
  {
   "cell_type": "code",
   "execution_count": null,
   "id": "53ccaa2d-3b23-427d-bf42-a8c8091c08bf",
   "metadata": {},
   "outputs": [],
   "source": [
    "sr = SRegion(row['s_region'])\n",
    "print(sr.centroid)\n",
    "print(sr.sky_area(u.deg**2)[0])"
   ]
  },
  {
   "cell_type": "markdown",
   "id": "2a2e6ac5-63f7-4d75-8077-b2095b093f54",
   "metadata": {},
   "source": [
    "### Plotting\n",
    "We use `skyproj` to make a Mollweide projection plot and label it with the Milky Way band and the ecliptic"
   ]
  },
  {
   "cell_type": "code",
   "execution_count": null,
   "id": "8b5d1a97-0828-4934-a41d-90b824fc5538",
   "metadata": {},
   "outputs": [],
   "source": [
    "plt.close()\n",
    "fig, ax = plt.subplots(1, 1, layout='constrained', dpi=150)\n",
    "sp = skyproj.MollweideSkyproj(ax=ax)\n",
    "# Draw Milky Way (default is black lines, 1.5 linewidth and +/- 10 degrees of the equator\n",
    "linewidth = 1.5\n",
    "color = 'black'\n",
    "sp.draw_milky_way(label='Milky Way', linewidth=linewidth, color=color)\n",
    "mw_line = sp.ax.lines[-3]\n",
    "# Draw ecliptic and label\n",
    "elon = np.linspace(0, 360, 500)\n",
    "elat = np.zeros_like(elon)\n",
    "ec = SkyCoord(lon=elon * u.degree, lat=elat * u.degree, distance=1 * u.au, frame='heliocentricmeanecliptic')\n",
    "radec = ec.icrs\n",
    "lon = radec.ra.degree\n",
    "lat = radec.dec.degree\n",
    "sp.ax.plot(lon, lat, linewidth=1.0, color='green', linestyle='--', label='Ecliptic')\n",
    "ecl_line = sp.ax.lines[-1]\n",
    "legend_handles = [mw_line, ecl_line]\n",
    "sp.ax.legend(handles=legend_handles, loc='upper right', fontsize='x-small')\n",
    "ax.grid()"
   ]
  },
  {
   "cell_type": "markdown",
   "id": "c34a87d3-e031-4e96-9ca3-78f2cde1370d",
   "metadata": {},
   "source": [
    "### Turn all the rows (ZTF observed fields) into `SRegion`s and plot them"
   ]
  },
  {
   "cell_type": "code",
   "execution_count": null,
   "id": "c44ae71b-392e-4eeb-a0e9-187a77166e27",
   "metadata": {},
   "outputs": [],
   "source": [
    "for region in ztf_obs['s_region']:\n",
    "    sr = SRegion(region)\n",
    "    # Transpose the array of (x,y) points to get x and y arrays\n",
    "    poly_points = sr.xy[0].T\n",
    "    sp.draw_polygon(\n",
    "        poly_points[0], poly_points[1], edgecolor='black', alpha=0.5, facecolor='red', linewidth=0.75, linestyle='--'\n",
    "    )\n",
    "night_patches = sp.ax.patches[-1]\n",
    "night_patches.set_label(date_str)\n",
    "legend_handles.append(night_patches)"
   ]
  },
  {
   "cell_type": "code",
   "execution_count": null,
   "id": "d6cbdcf7-6ac9-4cf9-bb66-a1e56b225e47",
   "metadata": {},
   "outputs": [],
   "source": [
    "# Update legend and add title\n",
    "sp.ax.legend(handles=legend_handles, loc='upper right', fontsize='x-small')\n",
    "sp.ax.set_title(f'ZTF fields for {date_str}')"
   ]
  },
  {
   "cell_type": "code",
   "execution_count": null,
   "id": "c1ce0e8f-5b23-4c08-aa57-69460efcbb44",
   "metadata": {},
   "outputs": [],
   "source": []
  }
 ],
 "metadata": {
  "kernelspec": {
   "display_name": "Python 3 (ipykernel)",
   "language": "python",
   "name": "python3"
  },
  "language_info": {
   "codemirror_mode": {
    "name": "ipython",
    "version": 3
   },
   "file_extension": ".py",
   "mimetype": "text/x-python",
   "name": "python",
   "nbconvert_exporter": "python",
   "pygments_lexer": "ipython3",
   "version": "3.11.11"
  }
 },
 "nbformat": 4,
 "nbformat_minor": 5
}
