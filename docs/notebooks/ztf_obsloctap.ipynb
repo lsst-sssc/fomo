{
 "cells": [
  {
   "cell_type": "markdown",
   "id": "5f31ffa5-19ad-4857-8cb9-993b4bd33e33",
   "metadata": {},
   "source": [
    "Import needed packages"
   ]
  },
  {
   "cell_type": "code",
   "execution_count": null,
   "id": "a218c7e0-35c6-4c90-86b5-6ccbd1a39cc5",
   "metadata": {},
   "outputs": [],
   "source": [
    "from datetime import datetime, timedelta\n",
    "from astropy.time import Time\n",
    "from astropy.table import QTable"
   ]
  },
  {
   "cell_type": "code",
   "execution_count": null,
   "id": "ad1ee331-22a0-4662-92d4-33dce75e85bd",
   "metadata": {},
   "outputs": [],
   "source": [
    "obs_date = datetime(2025, 8, 11)\n",
    "date_str = obs_date.strftime('%Y-%m-%d')\n",
    "print(f'Searching for observations on {date_str}')"
   ]
  },
  {
   "cell_type": "code",
   "execution_count": null,
   "id": "c2dd9d66-bd6d-4bcd-8e06-3d33a8378b04",
   "metadata": {},
   "outputs": [],
   "source": [
    "url = f'http://schedule.ztf.uw.edu/ZTF_ObsLoc_{date_str}.xml'\n",
    "ztf_obs_20250811 = QTable.read(url)\n",
    "print(ztf_obs_20250811)"
   ]
  },
  {
   "cell_type": "code",
   "execution_count": null,
   "id": "57ea66db-3d32-4c6e-bf17-370ec825c95d",
   "metadata": {},
   "outputs": [],
   "source": [
    "for column in ['t_planning', 't_min', 't_max']:\n",
    "    t = Time(ztf_obs_20250811[column], format='mjd')\n",
    "    ztf_obs_20250811[column] = t"
   ]
  },
  {
   "cell_type": "code",
   "execution_count": null,
   "id": "6587a592-e2e3-4a63-ae6a-655d2197f807",
   "metadata": {},
   "outputs": [],
   "source": [
    "ztf_obs_20250811"
   ]
  },
  {
   "cell_type": "code",
   "execution_count": null,
   "id": "1d17f862-73ef-496f-a0e0-00eecf79d382",
   "metadata": {},
   "outputs": [],
   "source": [
    "row = ztf_obs_20250811[0]\n",
    "print(row['s_region'])"
   ]
  },
  {
   "cell_type": "code",
   "execution_count": null,
   "id": "53ccaa2d-3b23-427d-bf42-a8c8091c08bf",
   "metadata": {},
   "outputs": [],
   "source": []
  }
 ],
 "metadata": {
  "kernelspec": {
   "display_name": "Python 3 (ipykernel)",
   "language": "python",
   "name": "python3"
  },
  "language_info": {
   "codemirror_mode": {
    "name": "ipython",
    "version": 3
   },
   "file_extension": ".py",
   "mimetype": "text/x-python",
   "name": "python",
   "nbconvert_exporter": "python",
   "pygments_lexer": "ipython3",
   "version": "3.11.9"
  }
 },
 "nbformat": 4,
 "nbformat_minor": 5
}
