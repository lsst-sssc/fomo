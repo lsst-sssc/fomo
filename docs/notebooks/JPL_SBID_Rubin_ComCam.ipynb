{
 "cells": [
  {
   "cell_type": "markdown",
   "id": "631c383e-3b2d-47d8-939d-050b8771418d",
   "metadata": {},
   "source": [
    "# Tutorial for basics usage of the JPL Small Body Identification Tool\n",
    "\n",
    "## Intro\n",
    "The notebook demonstrates the basic usage of `JPLSBID` class which provides a wrapper and front end for the JPL [Small-Body Identification Tool](https://ssd.jpl.nasa.gov/tools/sb_ident.html). This tool  This tool allows you to search for and retrieve a list of small-bodies (asteroids and/or comets) which are likely contained in the specified fiel of view on the specified date/time. "
   ]
  },
  {
   "cell_type": "markdown",
   "id": "f952f9b7-f60b-4be3-98a0-41873c2eaf49",
   "metadata": {},
   "source": [
    "## Tutorial\n",
    "\n",
    "### Import needed things\n"
   ]
  },
  {
   "cell_type": "code",
   "execution_count": null,
   "id": "fb1ed123-a681-4bfb-9a71-d760aeae0598",
   "metadata": {},
   "outputs": [],
   "source": [
    "from astropy import units as u\n",
    "from astropy.time import Time\n",
    "from astropy.coordinates import SkyCoord\n",
    "from solsys_code.views import JPLSBId"
   ]
  },
  {
   "cell_type": "markdown",
   "id": "871d50a8-54ee-4756-9601-9b484e94c763",
   "metadata": {},
   "source": [
    "### Declare a time and point of interest \n",
    "\n",
    "This particular example is the (rough) start of commissioning observations on the Extended Chandra Deep Field South (E-CDF-S field)\n"
   ]
  },
  {
   "cell_type": "code",
   "execution_count": null,
   "id": "ca4444ee-6f2d-44cc-a8ed-9d87527cc2d5",
   "metadata": {},
   "outputs": [],
   "source": [
    "obs_time = Time('2024-11-11 09:00:00', scale='utc')\n",
    "ecdfs = SkyCoord(53.13, -28.10, unit=u.deg, frame='icrs')"
   ]
  },
  {
   "cell_type": "markdown",
   "id": "a57446df-eed9-4e13-af93-4c5f9ea22b7b",
   "metadata": {},
   "source": [
    "### Declare a JPLSBId object and initialize with the ComCam field of view (converted to a half-width)\n"
   ]
  },
  {
   "cell_type": "code",
   "execution_count": null,
   "id": "241fb4a3-b477-458f-96a2-fbc8d6b1e868",
   "metadata": {},
   "outputs": [],
   "source": [
    "# Declare a JPLSBId object and initialize with the ComCam field of view (converted to a half-width)\n",
    "rubin_comcam = JPLSBId(fov_ra_hwidth=40 * u.arcmin / 2.0, fov_dec_hwidth=40 * u.arcmin / 2.0)\n",
    "print(f'MPC Code: {rubin_comcam.mpc_code} FOV= {rubin_comcam.fov_ra_hwidth:.3f} x {rubin_comcam.fov_dec_hwidth:.3f}')"
   ]
  },
  {
   "cell_type": "markdown",
   "id": "335b0dc4-b038-49f1-a3c4-b2cae0bdc3c4",
   "metadata": {},
   "source": [
    "### Query the JPL Small Body ID tool\n",
    "\n",
    "This can take 30-60s. The defaults (`raw_response`=True, `verbose`=True) will show details of the query and return the raw (JSON) response\n"
   ]
  },
  {
   "cell_type": "code",
   "execution_count": null,
   "id": "dad2f852-e913-4b14-903f-916311676c7e",
   "metadata": {},
   "outputs": [],
   "source": [
    "results = rubin_comcam.query_center(obs_time, ecdfs)\n",
    "print(results.keys())"
   ]
  },
  {
   "cell_type": "markdown",
   "id": "d0cfb1bd-a8ad-4a0d-8ac4-54f9a32d4111",
   "metadata": {},
   "source": [
    "### Looking at the summary\n",
    "\n",
    "The basic summary of the query is in the dictionary of results under the `summary` key (the RA and Dec are '-'-separated and minus signs in the Dec are convered to `M`)\n"
   ]
  },
  {
   "cell_type": "code",
   "execution_count": null,
   "id": "4364f038-0bd0-4594-90d5-980bca9dfbb5",
   "metadata": {},
   "outputs": [],
   "source": [
    "for key, value in results['summary'].items():\n",
    "    print(f'{key:<14}: {value}')"
   ]
  },
  {
   "cell_type": "markdown",
   "id": "d94f51d0-a2ce-4921-abf6-ec54d4c267d5",
   "metadata": {},
   "source": [
    "### Examining results\n",
    "The per-object data is a list of fields (also a list) under the `data_first_pass` key with the fields ordered as described in `fields_first`"
   ]
  },
  {
   "cell_type": "code",
   "execution_count": null,
   "id": "6376c4f2-c67b-476c-84a4-3fc8e3a1ca8a",
   "metadata": {},
   "outputs": [],
   "source": [
    "print('\\n'.join(results['fields_first']))\n",
    "print()\n",
    "print(results['data_first_pass'][0])"
   ]
  },
  {
   "cell_type": "markdown",
   "id": "f6d9d190-b486-43e6-8766-e95c97e407e9",
   "metadata": {},
   "source": [
    "### Turning results into a Table\n",
    "If instead, we set `raw_response` to False, the list of objects will be turned into a `QTable` with the position as a `SkyCoord` and `Quantity` columns"
   ]
  },
  {
   "cell_type": "code",
   "execution_count": null,
   "id": "32c774d4-fed4-4dc7-9d13-0e71e2717b17",
   "metadata": {},
   "outputs": [],
   "source": [
    "table = rubin_comcam.query_center(obs_time, ecdfs, raw_response=False)\n",
    "print(table)\n",
    "print(table.colnames)"
   ]
  }
 ],
 "metadata": {
  "kernelspec": {
   "display_name": "Python 3 (ipykernel)",
   "language": "python",
   "name": "python3"
  },
  "language_info": {
   "codemirror_mode": {
    "name": "ipython",
    "version": 3
   },
   "file_extension": ".py",
   "mimetype": "text/x-python",
   "name": "python",
   "nbconvert_exporter": "python",
   "pygments_lexer": "ipython3",
   "version": "3.11.9"
  }
 },
 "nbformat": 4,
 "nbformat_minor": 5
}
