{
 "cells": [
  {
   "cell_type": "code",
   "execution_count": null,
   "id": "b4b3498e-2cb0-4079-9fe3-bb214ea244ef",
   "metadata": {},
   "outputs": [],
   "source": [
    "# Import needed things\n",
    "from astropy import units as u\n",
    "from astropy.time import Time\n",
    "from astropy.coordinates import SkyCoord\n",
    "from solsys_code.views import JPLSBId"
   ]
  },
  {
   "cell_type": "code",
   "execution_count": null,
   "id": "ca4444ee-6f2d-44cc-a8ed-9d87527cc2d5",
   "metadata": {},
   "outputs": [],
   "source": [
    "# Declare a time and point of interest (start of commissioning on the Extended Chandra Deep Field South)\n",
    "obs_time = Time('2024-11-11 09:00:00', scale='utc')\n",
    "ecdfs = SkyCoord(53.13, -28.10, unit=u.deg, frame='icrs')"
   ]
  },
  {
   "cell_type": "code",
   "execution_count": null,
   "id": "241fb4a3-b477-458f-96a2-fbc8d6b1e868",
   "metadata": {},
   "outputs": [],
   "source": [
    "# Declare a JPLSBId object and initialize with the ComCam field of view (converted to a half-width)\n",
    "rubin_comcam = JPLSBId(fov_ra_hwidth=40 * u.arcmin / 2.0, fov_dec_hwidth=40 * u.arcmin / 2.0)\n",
    "print(f'MPC Code: {rubin_comcam.mpc_code} FOV= {rubin_comcam.fov_ra_hwidth:.3f} x {rubin_comcam.fov_dec_hwidth:.3f}')"
   ]
  },
  {
   "cell_type": "markdown",
   "id": "335b0dc4-b038-49f1-a3c4-b2cae0bdc3c4",
   "metadata": {},
   "source": [
    "# Query the JPL Small Body ID tool (can take 30-60s). The defaults (`raw_response`=True, verbose=True) will show details of the query and return the raw (JSON) response\n"
   ]
  },
  {
   "cell_type": "code",
   "execution_count": null,
   "id": "dad2f852-e913-4b14-903f-916311676c7e",
   "metadata": {},
   "outputs": [],
   "source": [
    "results = rubin_comcam.query_center(obs_time, ecdfs)\n",
    "print(results.keys())"
   ]
  },
  {
   "cell_type": "code",
   "execution_count": null,
   "id": "4364f038-0bd0-4594-90d5-980bca9dfbb5",
   "metadata": {},
   "outputs": [],
   "source": [
    "# Looking at the summary (the RA and Dec are '-'-separated and minus signs in the Dec are convered to `M`)\n",
    "for key, value in results['summary'].items():\n",
    "    print(f'{key:<14}: {value}')"
   ]
  },
  {
   "cell_type": "code",
   "execution_count": null,
   "id": "6376c4f2-c67b-476c-84a4-3fc8e3a1ca8a",
   "metadata": {},
   "outputs": [],
   "source": [
    "# Per object Data is in 'data_first_pass' with the fields as described in 'fields_first'\n",
    "print('\\n'.join(results['fields_first']))\n",
    "print()\n",
    "print(results['data_first_pass'][0])"
   ]
  },
  {
   "cell_type": "code",
   "execution_count": null,
   "id": "32c774d4-fed4-4dc7-9d13-0e71e2717b17",
   "metadata": {},
   "outputs": [],
   "source": [
    "# If instead, we set `raw_response` to False, the list of objects will be turned into a QTable with the position as a SkyCoord\n",
    "# and Quantity columns\n",
    "table = rubin_comcam.query_center(obs_time, ecdfs, raw_response=False)\n",
    "print(table)\n",
    "print(table.colnames)"
   ]
  }
 ],
 "metadata": {
  "kernelspec": {
   "display_name": "Python 3 (ipykernel)",
   "language": "python",
   "name": "python3"
  },
  "language_info": {
   "codemirror_mode": {
    "name": "ipython",
    "version": 3
   },
   "file_extension": ".py",
   "mimetype": "text/x-python",
   "name": "python",
   "nbconvert_exporter": "python",
   "pygments_lexer": "ipython3",
   "version": "3.11.11"
  }
 },
 "nbformat": 4,
 "nbformat_minor": 5
}
